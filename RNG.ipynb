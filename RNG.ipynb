{
  "nbformat": 4,
  "nbformat_minor": 0,
  "metadata": {
    "colab": {
      "name": "RNG",
      "provenance": [],
      "collapsed_sections": [],
      "toc_visible": true,
      "include_colab_link": true
    },
    "kernelspec": {
      "display_name": "Python 3",
      "name": "python3"
    }
  },
  "cells": [
    {
      "cell_type": "markdown",
      "metadata": {
        "id": "view-in-github",
        "colab_type": "text"
      },
      "source": [
        "<a href=\"https://colab.research.google.com/github/Shubhra-dev/simulation_and_modeling/blob/main/RNG.ipynb\" target=\"_parent\"><img src=\"https://colab.research.google.com/assets/colab-badge.svg\" alt=\"Open In Colab\"/></a>"
      ]
    },
    {
      "cell_type": "code",
      "metadata": {
        "id": "NpWjvK5BGt6H"
      },
      "source": [
        "trials=[1000,1000,5000]\n",
        "Z1=[12,7]\n",
        "Z2=[3,5]\n",
        "Z3=[2,7]\n",
        "mod=[16,17,15]\n",
        "UI_LIST = []\n",
        "for n in trials:\n",
        "  for i in range(2,n+2):\n",
        "     UI = 0;\n",
        "     Z1_i= (13*Z1[i-1]+Z1[i-2]+3)%mod[0]\n",
        "     Z1.append(Z1_i)\n",
        "     UI+=Z1_i/mod[0]\n",
        "\n",
        "     Z2_i= (12*Z2[i-1]**2+13*Z2[i-2])%mod[1]\n",
        "     Z2.append(Z2_i)\n",
        "     UI+=Z2_i/mod[1]\n",
        "\n",
        "     Z3_i= (Z3[i-1]**3 + Z3[i-2])%mod[2]\n",
        "     Z3.append(Z3_i)\n",
        "     UI+=Z3_i/mod[2]\n",
        "     if ((UI)>1):\n",
        "        UI_LIST.append(UI%1)\n",
        "     else :\n",
        "        UI_LIST.append(UI)\n",
        "\n",
        "    \n",
        "UI_LIST1 = UI_LIST[:1000]\n",
        "UI_LIST2 = UI_LIST[100:1100]\n",
        "UI_LIST3 = UI_LIST[1100:]"
      ],
      "execution_count": null,
      "outputs": []
    },
    {
      "cell_type": "code",
      "metadata": {
        "colab": {
          "base_uri": "https://localhost:8080/",
          "height": 282
        },
        "id": "WB75y-_nLnNC",
        "outputId": "c7305da9-ea7b-4f18-da64-a30ebc177b7e"
      },
      "source": [
        "import matplotlib.pyplot as plt\n",
        "\n",
        "plt.hist(UI_LIST1,bins=20)\n",
        "plt.show\n"
      ],
      "execution_count": null,
      "outputs": [
        {
          "output_type": "execute_result",
          "data": {
            "text/plain": [
              "<function matplotlib.pyplot.show>"
            ]
          },
          "metadata": {
            "tags": []
          },
          "execution_count": 14
        },
        {
          "output_type": "display_data",
          "data": {
            "image/png": "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\n",
            "text/plain": [
              "<Figure size 432x288 with 1 Axes>"
            ]
          },
          "metadata": {
            "tags": [],
            "needs_background": "light"
          }
        }
      ]
    },
    {
      "cell_type": "code",
      "metadata": {
        "colab": {
          "base_uri": "https://localhost:8080/",
          "height": 282
        },
        "id": "lCy5VYvsNWlG",
        "outputId": "b43830db-2a30-4aac-cba5-b5d5e94df8b2"
      },
      "source": [
        "plt.hist(UI_LIST2,bins=20)\n",
        "plt.show"
      ],
      "execution_count": null,
      "outputs": [
        {
          "output_type": "execute_result",
          "data": {
            "text/plain": [
              "<function matplotlib.pyplot.show>"
            ]
          },
          "metadata": {
            "tags": []
          },
          "execution_count": 15
        },
        {
          "output_type": "display_data",
          "data": {
            "image/png": "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\n",
            "text/plain": [
              "<Figure size 432x288 with 1 Axes>"
            ]
          },
          "metadata": {
            "tags": [],
            "needs_background": "light"
          }
        }
      ]
    },
    {
      "cell_type": "code",
      "metadata": {
        "colab": {
          "base_uri": "https://localhost:8080/",
          "height": 282
        },
        "id": "xhVB8ZTpNXbo",
        "outputId": "adb61938-db3b-4566-e74b-7367f2c13310"
      },
      "source": [
        "\n",
        "plt.hist(UI_LIST3,bins=20)\n",
        "plt.show"
      ],
      "execution_count": null,
      "outputs": [
        {
          "output_type": "execute_result",
          "data": {
            "text/plain": [
              "<function matplotlib.pyplot.show>"
            ]
          },
          "metadata": {
            "tags": []
          },
          "execution_count": 16
        },
          "metadata": {
            "tags": [],
            "needs_background": "light"
          }
        }
      ]
    }
  ]
}
