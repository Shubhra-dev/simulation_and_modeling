{
  "nbformat": 4,
  "nbformat_minor": 0,
  "metadata": {
    "colab": {
      "name": "RNG",
      "provenance": [],
      "collapsed_sections": [],
      "toc_visible": true,
      "include_colab_link": true
    },
    "kernelspec": {
      "display_name": "Python 3",
      "name": "python3"
    }
  },
  "cells": [
    {
      "cell_type": "markdown",
      "metadata": {
        "id": "view-in-github",
        "colab_type": "text"
      },
      "source": [
        "<a href=\"https://colab.research.google.com/github/Shubhra-dev/simulation_and_modeling/blob/main/RNG.ipynb\" target=\"_parent\"><img src=\"https://colab.research.google.com/assets/colab-badge.svg\" alt=\"Open In Colab\"/></a>"
      ]
    },
    {
      "cell_type": "code",
      "metadata": {
        "id": "NpWjvK5BGt6H"
      },
      "source": [
        "trials=[1000,1000,5000]\n",
        "Z1=[12,7]\n",
        "Z2=[3,5]\n",
        "Z3=[2,7]\n",
        "mod=[16,17,15]\n",
        "UI_LIST = []\n",
        "for n in trials:\n",
        "  for i in range(2,n+2):\n",
        "     UI = 0;\n",
        "     Z1_i= (13*Z1[i-1]+Z1[i-2]+3)%mod[0]\n",
        "     Z1.append(Z1_i)\n",
        "     UI+=Z1_i/mod[0]\n",
        "\n",
        "     Z2_i= (12*Z2[i-1]**2+13*Z2[i-2])%mod[1]\n",
        "     Z2.append(Z2_i)\n",
        "     UI+=Z2_i/mod[1]\n",
        "\n",
        "     Z3_i= (Z3[i-1]**3 + Z3[i-2])%mod[2]\n",
        "     Z3.append(Z3_i)\n",
        "     UI+=Z3_i/mod[2]\n",
        "     if ((UI)>1):\n",
        "        UI_LIST.append(UI%1)\n",
        "     else :\n",
        "        UI_LIST.append(UI)\n",
        "\n",
        "    \n",
        "UI_LIST1 = UI_LIST[:1000]\n",
        "UI_LIST2 = UI_LIST[100:1100]\n",
        "UI_LIST3 = UI_LIST[1100:]"
      ],
      "execution_count": null,
      "outputs": []
    },
    {
      "cell_type": "code",
      "metadata": {
        "colab": {
          "base_uri": "https://localhost:8080/",
          "height": 282
        },
        "id": "WB75y-_nLnNC",
        "outputId": "c7305da9-ea7b-4f18-da64-a30ebc177b7e"
      },
      "source": [
        "import matplotlib.pyplot as plt\n",
        "\n",
        "plt.hist(UI_LIST1,bins=20)\n",
        "plt.show\n"
      ],
      "execution_count": null,
      "outputs": [
        {
          "output_type": "execute_result",
          "data": {
            "text/plain": [
              "<function matplotlib.pyplot.show>"
            ]
          },
          "metadata": {
            "tags": []
          },
          "execution_count": 14
        },
        {
          "output_type": "display_data",
          "data": {
            "image/png": "[encoded data removed]",
            "text/plain": [
              "<Figure size 432x288 with 1 Axes>"
            ]
          },
          "metadata": {
            "tags": [],
            "needs_background": "light"
          }
        }
      ]
    },
    {
      "cell_type": "code",
      "metadata": {
        "colab": {
          "base_uri": "https://localhost:8080/",
          "height": 282
        },
        "id": "lCy5VYvsNWlG",
        "outputId": "b43830db-2a30-4aac-cba5-b5d5e94df8b2"
      },
      "source": [
        "plt.hist(UI_LIST2,bins=20)\n",
        "plt.show"
      ],
      "execution_count": null,
      "outputs": [
        {
          "output_type": "execute_result",
          "data": {
            "text/plain": [
              "<function matplotlib.pyplot.show>"
            ]
          },
          "metadata": {
            "tags": []
          },
          "execution_count": 15
        },
        {
          "output_type": "display_data",
          "data": {
            "image/png": "[encoded data removed]",
            "text/plain": [
              "<Figure size 432x288 with 1 Axes>"
            ]
          },
          "metadata": {
            "tags": [],
            "needs_background": "light"
          }
        }
      ]
    },
    {
      "cell_type": "code",
      "metadata": {
        "colab": {
          "base_uri": "https://localhost:8080/",
          "height": 282
        },
        "id": "xhVB8ZTpNXbo",
        "outputId": "adb61938-db3b-4566-e74b-7367f2c13310"
      },
      "source": [
        "\n",
        "plt.hist(UI_LIST3,bins=20)\n",
        "plt.show"
      ],
      "execution_count": null,
      "outputs": [
        {
          "output_type": "execute_result",
          "data": {
            "text/plain": [
              "<function matplotlib.pyplot.show>"
            ]
          },
          "metadata": {
            "tags": []
          },
          "execution_count": 16
        },
        {
          "output_type": "display_data",
          "data": {
            "image/png": "[encoded data removed]",
            "text/plain": [
              "<Figure size 432x288 with 1 Axes>"
            ]
          },
          "metadata": {
            "tags": [],
            "needs_background": "light"
          }
        }
      ]
    }
  ]
}